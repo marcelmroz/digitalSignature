{
 "cells": [
  {
   "cell_type": "markdown",
   "metadata": {},
   "source": [
    "Importowanie Bibliotek"
   ]
  },
  {
   "cell_type": "code",
   "execution_count": 4,
   "metadata": {},
   "outputs": [],
   "source": [
    "from Crypto.PublicKey import RSA\n",
    "import Crypto\n",
    "from cryptography.hazmat.primitives import serialization as crypto_serialization\n",
    "from cryptography.hazmat.primitives.asymmetric import rsa\n",
    "from Crypto.Signature import pkcs1_15\n",
    "from Crypto.Hash import SHA256\n",
    "from Crypto.Signature.pkcs1_15 import PKCS115_SigScheme\n",
    "import os\n",
    "\n",
    "import sys\n",
    "if sys.version_info < (3, 6):\n",
    "    import sha3\n",
    "\n",
    "import PySimpleGUI as sg\n"
   ]
  },
  {
   "cell_type": "markdown",
   "metadata": {},
   "source": [
    "Funkcje"
   ]
  },
  {
   "cell_type": "code",
   "execution_count": 5,
   "metadata": {},
   "outputs": [],
   "source": [
    "def readingFile():\n",
    "    fileName = str((values[\"-IN-\"])) #wybór pliku z okna programu\n",
    "    file = open(fileName , \"rb\")\n",
    "    hashedFile = SHA256.new(file.read()) \n",
    "    return hashedFile #zwracanie 256 bitowej wiadomości \n",
    "\n",
    "\n",
    "\n",
    "def createSignature():\n",
    "    #generowanie klucza prywatnego i zapisanie go w folderze keyPair\n",
    "    key = Crypto.PublicKey.RSA.generate(2048) \n",
    "    privateKey = key.export_key(\"PEM\")\n",
    "    privateKeyFilename = os.path.join(\"pairOfKeys\", \"key\")\n",
    "    with open(privateKeyFilename, \"wb\") as fd:\n",
    "        fd.write(privateKey)\n",
    "    os.chmod(privateKeyFilename, 0o600) #\n",
    "\n",
    "    #generowanie klucza publicznego i zapisanie go w folderze keyPair\n",
    "    publicKey = key.publickey().export_key(\"OpenSSH\")\n",
    "    publicKeyFilename = os.path.join(\"pairOfKeys\", \"keyPublic\")\n",
    "    with open(publicKeyFilename, \"wb\") as fd:\n",
    "        fd.write(publicKey)\n",
    "    os.chmod(publicKeyFilename, 0o600)\n",
    "\n",
    "    privateKey = RSA.import_key(open('pairOfKeys\\\\key').read())\n",
    "    hashedFile = readingFile() \n",
    "    signature = pkcs1_15.new(privateKey).sign(hashedFile) #tworzenie cyfrowego podpisu dla wybranego wcześniej pliku\n",
    "    \n",
    "    #zapisanie cyfrowego podpisu jako plik signature\n",
    "    signFilename = os.path.join(\"signature\")\n",
    "    with open(signFilename, \"wb\") as fd:\n",
    "        fd.write(signature)\n",
    "    os.chmod(signFilename, 0o600)\n",
    "    print(\"done\")\n",
    "\n",
    "\n",
    "\n",
    "def checkSignature():\n",
    "    \n",
    "    signPath = os.path.join(\"signature\") \n",
    "    signatureToVerify = open(signPath, \"rb\").read() #pobranie pliku signature z folderu\n",
    "    publicKey = RSA.import_key(open(\"pairOfKeys\\\\keyPublic\").read()) #pobranie pliku keyPublic z folderu\n",
    "    hashedFile = readingFile() #pobranie pliku, dla którego został wygenerowany podpis\n",
    "    verifier = PKCS115_SigScheme(publicKey) #korzytanie z klasy PKCS115_SigScheme w celu weryfikacji podpisu\n",
    "\n",
    "    #weryfikacja podpisu cyfrowego i wypisanie wyniku w oknie programu\n",
    "    try:\n",
    "        verifier.verify(hashedFile,signatureToVerify)\n",
    "        print(\"Signature valid\")\n",
    "        output = \"Signature valid\"\n",
    "        window['OUTPUT'].update(output)\n",
    "\n",
    "    except:\n",
    "        print(\"Signature invalid\")\n",
    "        output = \"Signature invalid\"\n",
    "        window['OUTPUT'].update(output)\n",
    "        \n"
   ]
  },
  {
   "cell_type": "markdown",
   "metadata": {},
   "source": [
    "Tworzenie prostego interfejsu graficznego"
   ]
  },
  {
   "cell_type": "code",
   "execution_count": 6,
   "metadata": {},
   "outputs": [
    {
     "name": "stdout",
     "output_type": "stream",
     "text": [
      "done\n",
      "Signature valid\n"
     ]
    }
   ],
   "source": [
    "sg.theme('DarkAmber')  #wybór motywu\n",
    "\n",
    "layout = [  [[sg.T(\"\")], [sg.Text(\"Choose a file: \"), sg.Input(), sg.FileBrowse(key=\"-IN-\")]],\n",
    "            [sg.Button('Create signature'), sg.Button('Check signature'), sg.Button('Cancel')],\n",
    "            [sg.Text(\"\", size=(0, 1), key='OUTPUT')] ] #tworzenie layoutu\n",
    "\n",
    "\n",
    "window = sg.Window('Digital Signature', layout) #tworzenie okna prostego interfejsu graficznego \n",
    "\n",
    "\n",
    "while True: #pętla działania programu\n",
    "    event, values = window.read()\n",
    "    if event == sg.WIN_CLOSED or event == 'Cancel':\n",
    "        break\n",
    "    elif event == 'Create signature':\n",
    "\n",
    "        createSignature() #tworzenie podpisu cyfrowego \n",
    "        window['OUTPUT'].update('done')\n",
    "\n",
    "        \n",
    "    elif event == 'Check signature' :\n",
    "\n",
    "        checkSignature() #weryfikacja podpisu cyfrowego\n",
    "\n",
    "\n",
    "window.close() #zamknięcie okna programu"
   ]
  }
 ],
 "metadata": {
  "interpreter": {
   "hash": "bce320103a4f9599bf42cb45744b1f3acee8930c6f7dcdff248089a2e65863cd"
  },
  "kernelspec": {
   "display_name": "Python 3.8.8 ('base')",
   "language": "python",
   "name": "python3"
  },
  "language_info": {
   "codemirror_mode": {
    "name": "ipython",
    "version": 3
   },
   "file_extension": ".py",
   "mimetype": "text/x-python",
   "name": "python",
   "nbconvert_exporter": "python",
   "pygments_lexer": "ipython3",
   "version": "3.8.8"
  },
  "orig_nbformat": 4
 },
 "nbformat": 4,
 "nbformat_minor": 2
}
